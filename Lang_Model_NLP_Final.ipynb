{
  "cells": [
    {
      "cell_type": "markdown",
      "metadata": {
        "id": "view-in-github",
        "colab_type": "text"
      },
      "source": [
        "<a href=\"https://colab.research.google.com/github/dgkmohan1986/NLP-LangModel/blob/main/Lang_Model_NLP_Final.ipynb\" target=\"_parent\"><img src=\"https://colab.research.google.com/assets/colab-badge.svg\" alt=\"Open In Colab\"/></a>"
      ]
    },
    {
      "cell_type": "code",
      "execution_count": 32,
      "metadata": {
        "colab": {
          "base_uri": "https://localhost:8080/"
        },
        "id": "DlH5_sZw9fjz",
        "outputId": "5b1f40fc-27e2-49fc-df45-f202e00db890"
      },
      "outputs": [
        {
          "output_type": "stream",
          "name": "stdout",
          "text": [
            "2572\n"
          ]
        }
      ],
      "source": [
        "#importing required modules\n",
        "import pandas as pd\n",
        "import numpy as np\n",
        "\n",
        "#opening  the file with open method and copying the data to  a string\n",
        "data = open(\"2009_acura_rl.txt\",\"r\")\n",
        "\n",
        "string1=\"\"\n",
        "while data.readline():\n",
        "  string1+=data.readline()\n",
        "print(len(string1))\n"
      ]
    },
    {
      "cell_type": "code",
      "execution_count": 3,
      "metadata": {
        "id": "MAVALB6Hes4c",
        "colab": {
          "base_uri": "https://localhost:8080/"
        },
        "outputId": "52433c46-6909-4012-fc63-58c18406c5fb"
      },
      "outputs": [
        {
          "output_type": "stream",
          "name": "stdout",
          "text": [
            "oc  author becky  author  favorite nav system with live traffic  vented seats  nice looking dash  e\n"
          ]
        }
      ],
      "source": [
        "#Removing special symbols words and Formatting Data according to text available\n",
        "import re\n",
        "string1=string1.replace(\"\\n\",\"\")\n",
        "string1=string1.replace(\"\\t\",\"\")\n",
        "string1=re.sub(r'[^a-zA-Z0-9]', ' ', string1)\n",
        "string=re.sub(r'[/^\\s+|\\s+$/g]',' ', string1)\n",
        "string1=string1.lower()\n",
        "string=string1.strip()\n",
        "string1=re.sub(r'\\s+', ' ',string1)\n",
        "print(string[1:100])\n",
        "#def text_cleaner(text):\n",
        "    # lower case text\n",
        "#    newString = text.lower()\n",
        "#    newString = re.sub(r\"'s\\b\",\"\",newString)\n",
        "    # remove punctuations\n",
        "#    newString = re.sub(\"[^a-zA-Z]\", \" \", newString) \n",
        "#    long_words=[]\n",
        "    # remove short word\n",
        "#    for i in newString.split():\n",
        "#        if len(i)>=3:                  \n",
        "#            long_words.append(i)\n",
        "#    return (\" \".join(long_words)).strip()\"\"\""
      ]
    },
    {
      "cell_type": "code",
      "source": [
        "#Extracting Unigrams from Text\n",
        "unigram_data1=string1.split(\" \")\n",
        "print(len(unigram_data1))\n",
        "unigram_data2=[]\n",
        "#Trimming the words and \n",
        "for i in unigram_data1:\n",
        "  k=i.strip()\n",
        "  unigram_data2.append(k)\n",
        "#Removing empty strings from the unigrams\n",
        "for i in unigram_data2:\n",
        "  if len(i)==0:\n",
        "    unigram_data2.remove(i)\n",
        "#print(unigram_data2[1:10]) \n",
        "unigram_count=len(unigram_data2)\n",
        "print(unigram_count)"
      ],
      "metadata": {
        "colab": {
          "base_uri": "https://localhost:8080/"
        },
        "id": "GVjuH536oe5M",
        "outputId": "83a62712-7d6d-4471-f484-8b40ef6055d3"
      },
      "execution_count": 4,
      "outputs": [
        {
          "output_type": "stream",
          "name": "stdout",
          "text": [
            "396\n",
            "394\n"
          ]
        }
      ]
    },
    {
      "cell_type": "code",
      "source": [
        "#Generating unique words\n",
        "vocabulary=list(set(unigram_data2))\n",
        "print(len(vocabulary))"
      ],
      "metadata": {
        "colab": {
          "base_uri": "https://localhost:8080/"
        },
        "id": "7UJtHN5ps_L-",
        "outputId": "44a0065f-17fb-4e99-8b09-8104c3d6baa5"
      },
      "execution_count": 5,
      "outputs": [
        {
          "output_type": "stream",
          "name": "stdout",
          "text": [
            "221\n"
          ]
        }
      ]
    },
    {
      "cell_type": "code",
      "source": [
        "#Generating Unigram Frequency counts\n",
        "counted=[]\n",
        "unigram_dict={}\n",
        "#unigram_data2.sort()\n",
        "for i in unigram_data2:\n",
        "  if i not in counted and len(i)>0:\n",
        "      counted.append(i.strip())\n",
        "      unigram_dict[i]=unigram_data2.count(i)\n",
        "      #print(unigram_data2.count(i),i)\n",
        "#print(len(counted[0]))\n"
      ],
      "metadata": {
        "id": "SmfnWDHNwCbz"
      },
      "execution_count": 6,
      "outputs": []
    },
    {
      "cell_type": "code",
      "source": [
        "#Generating Unigram Probabilities\n",
        "prob_dict={}\n",
        "for i in counted:\n",
        "  prob=unigram_dict[i]/len(vocabulary)\n",
        "  prob_dict[i]=prob\n",
        "  #print(i,prob)\n",
        "\n",
        "#Displaying the Unigram Probabilities\n",
        "prob1_table=pd.DataFrame()\n",
        "prob1_table['Words']=prob_dict.keys()\n",
        "prob1_table['Probabilities']=prob_dict.values()\n",
        "prob1_table=prob1_table.fillna(0.0)\n",
        "display(prob1_table)\n",
        "\n"
      ],
      "metadata": {
        "colab": {
          "base_uri": "https://localhost:8080/",
          "height": 424
        },
        "id": "v-5JH4VlxGUd",
        "outputId": "5acafdfc-9e18-430b-acd9-7dedc607853a"
      },
      "execution_count": 7,
      "outputs": [
        {
          "output_type": "display_data",
          "data": {
            "text/plain": [
              "        Words  Probabilities\n",
              "0         doc       0.063348\n",
              "1      author       0.126697\n",
              "2       becky       0.004525\n",
              "3    favorite       0.126697\n",
              "4         nav       0.004525\n",
              "..        ...            ...\n",
              "216     could       0.004525\n",
              "217     coast       0.009050\n",
              "218        no       0.009050\n",
              "219      muss       0.004525\n",
              "220      fuss       0.004525\n",
              "\n",
              "[221 rows x 2 columns]"
            ],
            "text/html": [
              "\n",
              "  <div id=\"df-7203becd-aadd-424c-858a-8471d059382f\">\n",
              "    <div class=\"colab-df-container\">\n",
              "      <div>\n",
              "<style scoped>\n",
              "    .dataframe tbody tr th:only-of-type {\n",
              "        vertical-align: middle;\n",
              "    }\n",
              "\n",
              "    .dataframe tbody tr th {\n",
              "        vertical-align: top;\n",
              "    }\n",
              "\n",
              "    .dataframe thead th {\n",
              "        text-align: right;\n",
              "    }\n",
              "</style>\n",
              "<table border=\"1\" class=\"dataframe\">\n",
              "  <thead>\n",
              "    <tr style=\"text-align: right;\">\n",
              "      <th></th>\n",
              "      <th>Words</th>\n",
              "      <th>Probabilities</th>\n",
              "    </tr>\n",
              "  </thead>\n",
              "  <tbody>\n",
              "    <tr>\n",
              "      <th>0</th>\n",
              "      <td>doc</td>\n",
              "      <td>0.063348</td>\n",
              "    </tr>\n",
              "    <tr>\n",
              "      <th>1</th>\n",
              "      <td>author</td>\n",
              "      <td>0.126697</td>\n",
              "    </tr>\n",
              "    <tr>\n",
              "      <th>2</th>\n",
              "      <td>becky</td>\n",
              "      <td>0.004525</td>\n",
              "    </tr>\n",
              "    <tr>\n",
              "      <th>3</th>\n",
              "      <td>favorite</td>\n",
              "      <td>0.126697</td>\n",
              "    </tr>\n",
              "    <tr>\n",
              "      <th>4</th>\n",
              "      <td>nav</td>\n",
              "      <td>0.004525</td>\n",
              "    </tr>\n",
              "    <tr>\n",
              "      <th>...</th>\n",
              "      <td>...</td>\n",
              "      <td>...</td>\n",
              "    </tr>\n",
              "    <tr>\n",
              "      <th>216</th>\n",
              "      <td>could</td>\n",
              "      <td>0.004525</td>\n",
              "    </tr>\n",
              "    <tr>\n",
              "      <th>217</th>\n",
              "      <td>coast</td>\n",
              "      <td>0.009050</td>\n",
              "    </tr>\n",
              "    <tr>\n",
              "      <th>218</th>\n",
              "      <td>no</td>\n",
              "      <td>0.009050</td>\n",
              "    </tr>\n",
              "    <tr>\n",
              "      <th>219</th>\n",
              "      <td>muss</td>\n",
              "      <td>0.004525</td>\n",
              "    </tr>\n",
              "    <tr>\n",
              "      <th>220</th>\n",
              "      <td>fuss</td>\n",
              "      <td>0.004525</td>\n",
              "    </tr>\n",
              "  </tbody>\n",
              "</table>\n",
              "<p>221 rows × 2 columns</p>\n",
              "</div>\n",
              "      <button class=\"colab-df-convert\" onclick=\"convertToInteractive('df-7203becd-aadd-424c-858a-8471d059382f')\"\n",
              "              title=\"Convert this dataframe to an interactive table.\"\n",
              "              style=\"display:none;\">\n",
              "        \n",
              "  <svg xmlns=\"http://www.w3.org/2000/svg\" height=\"24px\"viewBox=\"0 0 24 24\"\n",
              "       width=\"24px\">\n",
              "    <path d=\"M0 0h24v24H0V0z\" fill=\"none\"/>\n",
              "    <path d=\"M18.56 5.44l.94 2.06.94-2.06 2.06-.94-2.06-.94-.94-2.06-.94 2.06-2.06.94zm-11 1L8.5 8.5l.94-2.06 2.06-.94-2.06-.94L8.5 2.5l-.94 2.06-2.06.94zm10 10l.94 2.06.94-2.06 2.06-.94-2.06-.94-.94-2.06-.94 2.06-2.06.94z\"/><path d=\"M17.41 7.96l-1.37-1.37c-.4-.4-.92-.59-1.43-.59-.52 0-1.04.2-1.43.59L10.3 9.45l-7.72 7.72c-.78.78-.78 2.05 0 2.83L4 21.41c.39.39.9.59 1.41.59.51 0 1.02-.2 1.41-.59l7.78-7.78 2.81-2.81c.8-.78.8-2.07 0-2.86zM5.41 20L4 18.59l7.72-7.72 1.47 1.35L5.41 20z\"/>\n",
              "  </svg>\n",
              "      </button>\n",
              "      \n",
              "  <style>\n",
              "    .colab-df-container {\n",
              "      display:flex;\n",
              "      flex-wrap:wrap;\n",
              "      gap: 12px;\n",
              "    }\n",
              "\n",
              "    .colab-df-convert {\n",
              "      background-color: #E8F0FE;\n",
              "      border: none;\n",
              "      border-radius: 50%;\n",
              "      cursor: pointer;\n",
              "      display: none;\n",
              "      fill: #1967D2;\n",
              "      height: 32px;\n",
              "      padding: 0 0 0 0;\n",
              "      width: 32px;\n",
              "    }\n",
              "\n",
              "    .colab-df-convert:hover {\n",
              "      background-color: #E2EBFA;\n",
              "      box-shadow: 0px 1px 2px rgba(60, 64, 67, 0.3), 0px 1px 3px 1px rgba(60, 64, 67, 0.15);\n",
              "      fill: #174EA6;\n",
              "    }\n",
              "\n",
              "    [theme=dark] .colab-df-convert {\n",
              "      background-color: #3B4455;\n",
              "      fill: #D2E3FC;\n",
              "    }\n",
              "\n",
              "    [theme=dark] .colab-df-convert:hover {\n",
              "      background-color: #434B5C;\n",
              "      box-shadow: 0px 1px 3px 1px rgba(0, 0, 0, 0.15);\n",
              "      filter: drop-shadow(0px 1px 2px rgba(0, 0, 0, 0.3));\n",
              "      fill: #FFFFFF;\n",
              "    }\n",
              "  </style>\n",
              "\n",
              "      <script>\n",
              "        const buttonEl =\n",
              "          document.querySelector('#df-7203becd-aadd-424c-858a-8471d059382f button.colab-df-convert');\n",
              "        buttonEl.style.display =\n",
              "          google.colab.kernel.accessAllowed ? 'block' : 'none';\n",
              "\n",
              "        async function convertToInteractive(key) {\n",
              "          const element = document.querySelector('#df-7203becd-aadd-424c-858a-8471d059382f');\n",
              "          const dataTable =\n",
              "            await google.colab.kernel.invokeFunction('convertToInteractive',\n",
              "                                                     [key], {});\n",
              "          if (!dataTable) return;\n",
              "\n",
              "          const docLinkHtml = 'Like what you see? Visit the ' +\n",
              "            '<a target=\"_blank\" href=https://colab.research.google.com/notebooks/data_table.ipynb>data table notebook</a>'\n",
              "            + ' to learn more about interactive tables.';\n",
              "          element.innerHTML = '';\n",
              "          dataTable['output_type'] = 'display_data';\n",
              "          await google.colab.output.renderOutput(dataTable, element);\n",
              "          const docLink = document.createElement('div');\n",
              "          docLink.innerHTML = docLinkHtml;\n",
              "          element.appendChild(docLink);\n",
              "        }\n",
              "      </script>\n",
              "    </div>\n",
              "  </div>\n",
              "  "
            ]
          },
          "metadata": {}
        }
      ]
    },
    {
      "cell_type": "code",
      "source": [
        "#Generating N grams - obtained the method from analytics india mag https://www.analyticsvidhya.com/blog/2021/09/what-are-n-grams-and-how-to-implement-them-in-python/\n",
        "#didn't used this\n",
        "def generate_N_grams(text,ngram=2):\n",
        "  words=[word for word in text.split(\" \")]\n",
        "  print(words[1:10])  \n",
        "  #print(\"Sentence after removing stopwords:\",words)\n",
        "  temp=zip(*[words[i:] for i in range(0,ngram)])\n",
        "  ans=[' '.join(ngram) for ngram in temp]\n",
        "  return ans"
      ],
      "metadata": {
        "id": "OOjbtARBnibc"
      },
      "execution_count": 62,
      "outputs": []
    },
    {
      "cell_type": "code",
      "source": [
        "Bigram_Data = [(s1, s2) for s1, s2 in zip(unigram_data2, unigram_data2[1:])]\n",
        "#Generting Bi Grams\n",
        "#Bigram_Data=generate_N_grams(string1,2)\n",
        "print(Bigram_Data[1])\n",
        "print(Bigram_Data[0])\n",
        "Bigram_count=len(Bigram_Data)\n",
        "print(Bigram_count)\n"
      ],
      "metadata": {
        "colab": {
          "base_uri": "https://localhost:8080/"
        },
        "id": "ZDx4Pqi3rRRb",
        "outputId": "682161cc-35ae-4e29-9fff-f1353b62998c"
      },
      "execution_count": 8,
      "outputs": [
        {
          "output_type": "stream",
          "name": "stdout",
          "text": [
            "('author', 'becky')\n",
            "('doc', 'author')\n",
            "393\n"
          ]
        }
      ]
    },
    {
      "cell_type": "code",
      "source": [
        "#Generating Bigram Frequency to caluculate Probabilities\n",
        "prob_dict_bi={}\n",
        "bigram_counted=[]\n",
        "bigram_dict={}\n",
        "for i in Bigram_Data:\n",
        "  if i not in bigram_counted and len(i)>0:\n",
        "      bigram_counted.append(i)\n",
        "      bigram_dict[i]=Bigram_Data.count(i)\n",
        "      #print(Bigram_Data.count(i),i)\n",
        "print(len(bigram_counted))\n",
        "  #The bigram probability is calculated by dividing the number of times the string “prime minister” appears in the given corpus by the total number of times the word “prime” appears in the same corpus\n",
        "for i in bigram_dict.keys():\n",
        "  #getting no.of appearences of first word in corpus from unigram probabilities--n1\n",
        "  n1=unigram_dict[i[0]]\n",
        "  #getting no.of appearences of bigrams in corpus from bigram probabilities--n2\n",
        " # s=i[0]+\" \"+i[1]\n",
        "  n2=bigram_dict[i]\n",
        "  l1=[n1,n2,n2/n1]\n",
        "  prob_dict_bi[i]=l1\n",
        "\n",
        "#Displaying the Bigram Probabilities\n",
        "prob1_table_2=pd.DataFrame()\n",
        "prob1_table_2['Bigrams']=prob_dict_bi.keys()\n",
        "prob1_table_2['Probabilities']=prob_dict_bi.values()\n",
        "prob1_table_2=prob1_table_2.fillna(0.0)\n",
        "display(prob1_table_2)\n",
        "\n",
        "#the probabilites list column in below output represents unigram frequency, bigram frequency and probability of bigram respectively.\n"
      ],
      "metadata": {
        "colab": {
          "base_uri": "https://localhost:8080/",
          "height": 441
        },
        "id": "NfkO27dlGr7E",
        "outputId": "ae2969c2-6d92-49bd-b63b-a65f7bb27653"
      },
      "execution_count": 31,
      "outputs": [
        {
          "output_type": "stream",
          "name": "stdout",
          "text": [
            "350\n"
          ]
        },
        {
          "output_type": "display_data",
          "data": {
            "text/plain": [
              "                Bigrams                 Probabilities\n",
              "0         (doc, author)                 [14, 14, 1.0]\n",
              "1       (author, becky)  [28, 1, 0.03571428571428571]\n",
              "2       (becky, author)                   [1, 1, 1.0]\n",
              "3    (author, favorite)                 [28, 14, 0.5]\n",
              "4       (favorite, nav)  [28, 1, 0.03571428571428571]\n",
              "..                  ...                           ...\n",
              "345          (with, no)                   [5, 1, 0.2]\n",
              "346          (no, muss)                   [2, 1, 0.5]\n",
              "347          (muss, no)                   [1, 1, 1.0]\n",
              "348          (no, fuss)                   [2, 1, 0.5]\n",
              "349    (fuss, favorite)                   [1, 1, 1.0]\n",
              "\n",
              "[350 rows x 2 columns]"
            ],
            "text/html": [
              "\n",
              "  <div id=\"df-fb84ff6a-e62b-4f09-b697-d6f8f1ef7f33\">\n",
              "    <div class=\"colab-df-container\">\n",
              "      <div>\n",
              "<style scoped>\n",
              "    .dataframe tbody tr th:only-of-type {\n",
              "        vertical-align: middle;\n",
              "    }\n",
              "\n",
              "    .dataframe tbody tr th {\n",
              "        vertical-align: top;\n",
              "    }\n",
              "\n",
              "    .dataframe thead th {\n",
              "        text-align: right;\n",
              "    }\n",
              "</style>\n",
              "<table border=\"1\" class=\"dataframe\">\n",
              "  <thead>\n",
              "    <tr style=\"text-align: right;\">\n",
              "      <th></th>\n",
              "      <th>Bigrams</th>\n",
              "      <th>Probabilities</th>\n",
              "    </tr>\n",
              "  </thead>\n",
              "  <tbody>\n",
              "    <tr>\n",
              "      <th>0</th>\n",
              "      <td>(doc, author)</td>\n",
              "      <td>[14, 14, 1.0]</td>\n",
              "    </tr>\n",
              "    <tr>\n",
              "      <th>1</th>\n",
              "      <td>(author, becky)</td>\n",
              "      <td>[28, 1, 0.03571428571428571]</td>\n",
              "    </tr>\n",
              "    <tr>\n",
              "      <th>2</th>\n",
              "      <td>(becky, author)</td>\n",
              "      <td>[1, 1, 1.0]</td>\n",
              "    </tr>\n",
              "    <tr>\n",
              "      <th>3</th>\n",
              "      <td>(author, favorite)</td>\n",
              "      <td>[28, 14, 0.5]</td>\n",
              "    </tr>\n",
              "    <tr>\n",
              "      <th>4</th>\n",
              "      <td>(favorite, nav)</td>\n",
              "      <td>[28, 1, 0.03571428571428571]</td>\n",
              "    </tr>\n",
              "    <tr>\n",
              "      <th>...</th>\n",
              "      <td>...</td>\n",
              "      <td>...</td>\n",
              "    </tr>\n",
              "    <tr>\n",
              "      <th>345</th>\n",
              "      <td>(with, no)</td>\n",
              "      <td>[5, 1, 0.2]</td>\n",
              "    </tr>\n",
              "    <tr>\n",
              "      <th>346</th>\n",
              "      <td>(no, muss)</td>\n",
              "      <td>[2, 1, 0.5]</td>\n",
              "    </tr>\n",
              "    <tr>\n",
              "      <th>347</th>\n",
              "      <td>(muss, no)</td>\n",
              "      <td>[1, 1, 1.0]</td>\n",
              "    </tr>\n",
              "    <tr>\n",
              "      <th>348</th>\n",
              "      <td>(no, fuss)</td>\n",
              "      <td>[2, 1, 0.5]</td>\n",
              "    </tr>\n",
              "    <tr>\n",
              "      <th>349</th>\n",
              "      <td>(fuss, favorite)</td>\n",
              "      <td>[1, 1, 1.0]</td>\n",
              "    </tr>\n",
              "  </tbody>\n",
              "</table>\n",
              "<p>350 rows × 2 columns</p>\n",
              "</div>\n",
              "      <button class=\"colab-df-convert\" onclick=\"convertToInteractive('df-fb84ff6a-e62b-4f09-b697-d6f8f1ef7f33')\"\n",
              "              title=\"Convert this dataframe to an interactive table.\"\n",
              "              style=\"display:none;\">\n",
              "        \n",
              "  <svg xmlns=\"http://www.w3.org/2000/svg\" height=\"24px\"viewBox=\"0 0 24 24\"\n",
              "       width=\"24px\">\n",
              "    <path d=\"M0 0h24v24H0V0z\" fill=\"none\"/>\n",
              "    <path d=\"M18.56 5.44l.94 2.06.94-2.06 2.06-.94-2.06-.94-.94-2.06-.94 2.06-2.06.94zm-11 1L8.5 8.5l.94-2.06 2.06-.94-2.06-.94L8.5 2.5l-.94 2.06-2.06.94zm10 10l.94 2.06.94-2.06 2.06-.94-2.06-.94-.94-2.06-.94 2.06-2.06.94z\"/><path d=\"M17.41 7.96l-1.37-1.37c-.4-.4-.92-.59-1.43-.59-.52 0-1.04.2-1.43.59L10.3 9.45l-7.72 7.72c-.78.78-.78 2.05 0 2.83L4 21.41c.39.39.9.59 1.41.59.51 0 1.02-.2 1.41-.59l7.78-7.78 2.81-2.81c.8-.78.8-2.07 0-2.86zM5.41 20L4 18.59l7.72-7.72 1.47 1.35L5.41 20z\"/>\n",
              "  </svg>\n",
              "      </button>\n",
              "      \n",
              "  <style>\n",
              "    .colab-df-container {\n",
              "      display:flex;\n",
              "      flex-wrap:wrap;\n",
              "      gap: 12px;\n",
              "    }\n",
              "\n",
              "    .colab-df-convert {\n",
              "      background-color: #E8F0FE;\n",
              "      border: none;\n",
              "      border-radius: 50%;\n",
              "      cursor: pointer;\n",
              "      display: none;\n",
              "      fill: #1967D2;\n",
              "      height: 32px;\n",
              "      padding: 0 0 0 0;\n",
              "      width: 32px;\n",
              "    }\n",
              "\n",
              "    .colab-df-convert:hover {\n",
              "      background-color: #E2EBFA;\n",
              "      box-shadow: 0px 1px 2px rgba(60, 64, 67, 0.3), 0px 1px 3px 1px rgba(60, 64, 67, 0.15);\n",
              "      fill: #174EA6;\n",
              "    }\n",
              "\n",
              "    [theme=dark] .colab-df-convert {\n",
              "      background-color: #3B4455;\n",
              "      fill: #D2E3FC;\n",
              "    }\n",
              "\n",
              "    [theme=dark] .colab-df-convert:hover {\n",
              "      background-color: #434B5C;\n",
              "      box-shadow: 0px 1px 3px 1px rgba(0, 0, 0, 0.15);\n",
              "      filter: drop-shadow(0px 1px 2px rgba(0, 0, 0, 0.3));\n",
              "      fill: #FFFFFF;\n",
              "    }\n",
              "  </style>\n",
              "\n",
              "      <script>\n",
              "        const buttonEl =\n",
              "          document.querySelector('#df-fb84ff6a-e62b-4f09-b697-d6f8f1ef7f33 button.colab-df-convert');\n",
              "        buttonEl.style.display =\n",
              "          google.colab.kernel.accessAllowed ? 'block' : 'none';\n",
              "\n",
              "        async function convertToInteractive(key) {\n",
              "          const element = document.querySelector('#df-fb84ff6a-e62b-4f09-b697-d6f8f1ef7f33');\n",
              "          const dataTable =\n",
              "            await google.colab.kernel.invokeFunction('convertToInteractive',\n",
              "                                                     [key], {});\n",
              "          if (!dataTable) return;\n",
              "\n",
              "          const docLinkHtml = 'Like what you see? Visit the ' +\n",
              "            '<a target=\"_blank\" href=https://colab.research.google.com/notebooks/data_table.ipynb>data table notebook</a>'\n",
              "            + ' to learn more about interactive tables.';\n",
              "          element.innerHTML = '';\n",
              "          dataTable['output_type'] = 'display_data';\n",
              "          await google.colab.output.renderOutput(dataTable, element);\n",
              "          const docLink = document.createElement('div');\n",
              "          docLink.innerHTML = docLinkHtml;\n",
              "          element.appendChild(docLink);\n",
              "        }\n",
              "      </script>\n",
              "    </div>\n",
              "  </div>\n",
              "  "
            ]
          },
          "metadata": {}
        }
      ]
    },
    {
      "cell_type": "code",
      "source": [
        "#Generating BigramProbabilities Bigram_count - Method obtained from https://dev.to/amananandrai/language-model-implementation-bigram-model-22ij to get ideea\n",
        "#never utilised this method\n",
        "def calcBigramProb(listOfBigrams, unigramCounts, bigramCounts):\n",
        "    listOfProb = {}\n",
        "    for bigram in listOfBigrams:\n",
        "        word1 = bigram[0]\n",
        "        word2 = bigram[1]\n",
        "        listOfProb[bigram] = (bigramCounts.get(bigram))/(unigramCounts.get(word1))\n",
        "    return listOfProb"
      ],
      "metadata": {
        "id": "4FUy1JUHUSQy"
      },
      "execution_count": 84,
      "outputs": []
    },
    {
      "cell_type": "code",
      "source": [
        "#moving to caluculate perplexity"
      ],
      "metadata": {
        "id": "VaX-A8mc9Xbj"
      },
      "execution_count": null,
      "outputs": []
    },
    {
      "cell_type": "code",
      "source": [
        "#to generate sentences/predict next possible word"
      ],
      "metadata": {
        "id": "KIFIaBBA9Zx4"
      },
      "execution_count": null,
      "outputs": []
    },
    {
      "cell_type": "code",
      "source": [],
      "metadata": {
        "id": "kNv9-l6H3HyF"
      },
      "execution_count": null,
      "outputs": []
    }
  ],
  "metadata": {
    "accelerator": "GPU",
    "colab": {
      "collapsed_sections": [],
      "provenance": [],
      "authorship_tag": "ABX9TyPduzMCxTSjnvqBJhGk4pBS",
      "include_colab_link": true
    },
    "gpuClass": "standard",
    "kernelspec": {
      "display_name": "Python 3",
      "name": "python3"
    },
    "language_info": {
      "name": "python"
    }
  },
  "nbformat": 4,
  "nbformat_minor": 0
}